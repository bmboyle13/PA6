{
 "cells": [
  {
   "cell_type": "markdown",
   "id": "1e8c460c",
   "metadata": {},
   "source": [
    "# Brandon Boyle\n",
    "## assignment 6\n",
    "### version 1\n",
    "#### cs-150-01"
   ]
  },
  {
   "cell_type": "code",
   "execution_count": 1,
   "id": "24a075dd",
   "metadata": {},
   "outputs": [
    {
     "name": "stdout",
     "output_type": "stream",
     "text": [
      "Enter the length of side a: 5\n",
      "Enter the length of side b: 5\n",
      "Enter the length of side c: 5\n",
      "The area of the triangle is 10.83.\n",
      "The perimeter of the triangle is 15.00.\n"
     ]
    }
   ],
   "source": [
    "import math\n",
    "\n",
    "def calcArea(a=1, b=1, c=1):\n",
    "    s = (a + b + c) / 2\n",
    "    area = math.sqrt(s * (s - a) * (s - b) * (s - c))\n",
    "    return area\n",
    "\n",
    "def calcPerimeter(a=1, b=1, c=1):\n",
    "    perimeter = a + b + c\n",
    "    return perimeter\n",
    "\n",
    "a = float(input(\"Enter the length of side a: \"))\n",
    "b = float(input(\"Enter the length of side b: \"))\n",
    "c = float(input(\"Enter the length of side c: \"))\n",
    "\n",
    "area = calcArea(a, b, c)\n",
    "perimeter = calcPerimeter(a, b, c)\n",
    "\n",
    "print(f\"The area of the triangle is {area:.2f}.\")\n",
    "print(f\"The perimeter of the triangle is {perimeter:.2f}.\")\n"
   ]
  },
  {
   "cell_type": "code",
   "execution_count": 2,
   "id": "94e52b2f",
   "metadata": {},
   "outputs": [
    {
     "name": "stdout",
     "output_type": "stream",
     "text": [
      "Guess a number between 1 and 1000: 4\n",
      "Too low! Guess again.\n",
      "Guess again: 400\n",
      "Too high! Guess again.\n",
      "Guess again: 300\n",
      "Too low! Guess again.\n",
      "Guess again: 340\n",
      "Too low! Guess again.\n",
      "Guess again: 360\n",
      "Too high! Guess again.\n",
      "Guess again: 350\n",
      "Too low! Guess again.\n",
      "Guess again: 351\n",
      "Too low! Guess again.\n",
      "Guess again: 352\n",
      "Too low! Guess again.\n",
      "Guess again: 353\n",
      "Too low! Guess again.\n",
      "Guess again: 354\n",
      "Too low! Guess again.\n",
      "Guess again: 355\n",
      "Too low! Guess again.\n",
      "Guess again: 356\n",
      "Correct!\n"
     ]
    }
   ],
   "source": [
    "import random\n",
    "\n",
    "def evaluateGuess(guess, number):\n",
    "    if guess > number:\n",
    "        print(\"Too high! Guess again.\")\n",
    "    elif guess < number:\n",
    "        print(\"Too low! Guess again.\")\n",
    "    else:\n",
    "        print(\"Correct!\")\n",
    "\n",
    "number = random.randint(1, 1000)\n",
    "guess = int(input(\"Guess a number between 1 and 1000: \"))\n",
    "\n",
    "while guess != number:\n",
    "    evaluateGuess(guess, number)\n",
    "    guess = int(input(\"Guess again: \"))\n",
    "\n",
    "evaluateGuess(guess, number)\n"
   ]
  },
  {
   "cell_type": "code",
   "execution_count": 5,
   "id": "181d1f1d",
   "metadata": {},
   "outputs": [
    {
     "name": "stdout",
     "output_type": "stream",
     "text": [
      "The mean temperature over 5 days is 57.6 degrees Fahrenheit.\n"
     ]
    }
   ],
   "source": [
    "def meanTemp(*temps):\n",
    "    mean = sum(temps) / len(temps)\n",
    "    num_days = len(temps)\n",
    "    print(\"The mean temperature over\", num_days, \"days is\", mean, \"degrees Fahrenheit.\")\n",
    "\n",
    "meanTemp(65, 59, 60, 54, 50)"
   ]
  },
  {
   "cell_type": "code",
   "execution_count": null,
   "id": "e6022720",
   "metadata": {},
   "outputs": [],
   "source": []
  }
 ],
 "metadata": {
  "kernelspec": {
   "display_name": "Python 3 (ipykernel)",
   "language": "python",
   "name": "python3"
  },
  "language_info": {
   "codemirror_mode": {
    "name": "ipython",
    "version": 3
   },
   "file_extension": ".py",
   "mimetype": "text/x-python",
   "name": "python",
   "nbconvert_exporter": "python",
   "pygments_lexer": "ipython3",
   "version": "3.9.13"
  }
 },
 "nbformat": 4,
 "nbformat_minor": 5
}
